{
  "nbformat": 4,
  "nbformat_minor": 0,
  "metadata": {
    "colab": {
      "name": "function.ipynb",
      "provenance": [],
      "collapsed_sections": [],
      "authorship_tag": "ABX9TyNL8jO5rJL5rWFNvk2FQJAo",
      "include_colab_link": true
    },
    "kernelspec": {
      "name": "python3",
      "display_name": "Python 3"
    },
    "language_info": {
      "name": "python"
    }
  },
  "cells": [
    {
      "cell_type": "markdown",
      "metadata": {
        "id": "view-in-github",
        "colab_type": "text"
      },
      "source": [
        "<a href=\"https://colab.research.google.com/github/swseokitec/decorator/blob/main/function.ipynb\" target=\"_parent\"><img src=\"https://colab.research.google.com/assets/colab-badge.svg\" alt=\"Open In Colab\"/></a>"
      ]
    },
    {
      "cell_type": "code",
      "source": [
        "\n",
        "#########################################################################\n",
        "x = 1  # global scope\n",
        "######################################################################\n",
        "\n",
        "def func():  # global\n",
        "  x = 10   # local scope\n",
        "  return x\n",
        "\n",
        "ret = func() # global scope\n",
        "print(ret)\n",
        "print(x)"
      ],
      "metadata": {
        "colab": {
          "base_uri": "https://localhost:8080/"
        },
        "id": "b0idRgMmKfDU",
        "outputId": "236ff784-5bed-4303-f927-f4258fabd5ac"
      },
      "execution_count": null,
      "outputs": [
        {
          "output_type": "stream",
          "name": "stdout",
          "text": [
            "10\n",
            "1\n"
          ]
        }
      ]
    },
    {
      "cell_type": "code",
      "source": [
        "def outer_funces():\n",
        "  #x = 10\n",
        "\n",
        "  def inners():   \n",
        "    print(\"x of inners is = \", x) \n",
        "    return\n",
        "\n",
        "  # call inners()\n",
        "  inners()\n",
        "\n",
        "  print(\"x of outer is = \", x)\n",
        "  return "
      ],
      "metadata": {
        "id": "WjI4_phlyRFI"
      },
      "execution_count": null,
      "outputs": []
    },
    {
      "cell_type": "code",
      "source": [
        "outer_funces()"
      ],
      "metadata": {
        "colab": {
          "base_uri": "https://localhost:8080/"
        },
        "id": "16z4gtAryXUn",
        "outputId": "9d9df257-5d22-4cdf-fb72-93f911bd29db"
      },
      "execution_count": null,
      "outputs": [
        {
          "output_type": "stream",
          "name": "stdout",
          "text": [
            "x of inners is =  1\n",
            "x of outer is =  1\n"
          ]
        }
      ]
    },
    {
      "cell_type": "code",
      "source": [
        "def outer_funcs():\n",
        "  x = 10\n",
        "\n",
        "  def inners():\n",
        "    x = 3   #  x에 대해서 (=)를 처음 사용한다는 것은\n",
        "            #  inners의 local scope에서 x라는 로컬 변수를 선언!!!\n",
        "    x = 5  # x 에 저장된 값을 3에서 5로 변경\n",
        "    print(\"x of inners is = \", x) \n",
        "    return\n",
        "\n",
        "  # call inners()\n",
        "  inners()\n",
        "\n",
        "  print(\"x of outer is = \", x)\n",
        "  return "
      ],
      "metadata": {
        "id": "aT4o2YEDrb_e"
      },
      "execution_count": null,
      "outputs": []
    },
    {
      "cell_type": "code",
      "source": [
        "outer_funcs()"
      ],
      "metadata": {
        "colab": {
          "base_uri": "https://localhost:8080/"
        },
        "id": "k5L0S1GsrlUV",
        "outputId": "b6288b31-f5c9-47bb-c258-29fd00617d5b"
      },
      "execution_count": null,
      "outputs": [
        {
          "output_type": "stream",
          "name": "stdout",
          "text": [
            "x of inners is =  3\n",
            "x of outer is =  10\n"
          ]
        }
      ]
    },
    {
      "cell_type": "code",
      "source": [
        "x = 5  # 5라는 정수값(Integer.real)이 할당된 정수 클래스 객체의 주소(reference)를 할당(binding)"
      ],
      "metadata": {
        "id": "r11ULYr8vsLm"
      },
      "execution_count": null,
      "outputs": []
    },
    {
      "cell_type": "code",
      "execution_count": null,
      "metadata": {
        "id": "9M9bnRHqqbWj"
      },
      "outputs": [],
      "source": [
        "def outer_func(x):  # 파라미터 x도 outer_func의 로컬변수이다!!!\n",
        "  print(\"x of outer_func is = \", x) \n",
        "\n",
        "  def inner(y):\n",
        "    nonlocal x\n",
        "    #global x \n",
        "    print(\"y of inner is = \", x) \n",
        "    print(\"+x of inner is = \", x) \n",
        "    x += 1  # x = x + 1\n",
        "\n",
        "    print(\"-x of inner is = \", x) \n",
        "    return x + y\n",
        "\n",
        "  return inner(5)"
      ]
    },
    {
      "cell_type": "code",
      "source": [
        "outer_func(x)\n",
        "print(\"g x=\", x)"
      ],
      "metadata": {
        "colab": {
          "base_uri": "https://localhost:8080/"
        },
        "id": "BKMzhNc3q5NW",
        "outputId": "3f33bfa2-6cb9-4d6c-fd58-3d0808859750"
      },
      "execution_count": null,
      "outputs": [
        {
          "output_type": "stream",
          "name": "stdout",
          "text": [
            "x of outer_func is =  1\n",
            "y of inner is =  1\n",
            "+x of inner is =  1\n",
            "-x of inner is =  2\n",
            "g x= 2\n"
          ]
        }
      ]
    },
    {
      "cell_type": "code",
      "source": [
        ""
      ],
      "metadata": {
        "id": "XirUquLDq-F9"
      },
      "execution_count": null,
      "outputs": []
    },
    {
      "cell_type": "markdown",
      "source": [
        "클로저 함수 조건\n",
        "* 중첩함수(Netsted Function)\n",
        "* Outer Function의 변수를 Inner Functidn에서 사용한다:자유변수\n",
        "* Outer Function의 리턴값은 Inner Function이다"
      ],
      "metadata": {
        "id": "7P8wjh9T6EeA"
      }
    },
    {
      "cell_type": "code",
      "source": [
        "def clfunc():\n",
        "  li = list()   #1\n",
        "\n",
        "  def innerf(args):\n",
        "    li.append(args)\n",
        "    #print(li)\n",
        "    return li\n",
        "\n",
        "  return innerf #2"
      ],
      "metadata": {
        "id": "cAnu5jAo_XZJ"
      },
      "execution_count": null,
      "outputs": []
    },
    {
      "cell_type": "code",
      "source": [
        "clo = clfunc()\n",
        "clo"
      ],
      "metadata": {
        "colab": {
          "base_uri": "https://localhost:8080/"
        },
        "id": "kRww8vQL_rCg",
        "outputId": "1536d851-62ad-4a86-90bc-b01a5b2b5db7"
      },
      "execution_count": null,
      "outputs": [
        {
          "output_type": "execute_result",
          "data": {
            "text/plain": [
              "<function __main__.clfunc.<locals>.innerf>"
            ]
          },
          "metadata": {},
          "execution_count": 31
        }
      ]
    },
    {
      "cell_type": "code",
      "source": [
        "clo.__closure__[0].cell_contents"
      ],
      "metadata": {
        "colab": {
          "base_uri": "https://localhost:8080/"
        },
        "id": "vfZT17weB4oB",
        "outputId": "ed9bdc89-e332-45e5-babd-1a596457c969"
      },
      "execution_count": null,
      "outputs": [
        {
          "output_type": "execute_result",
          "data": {
            "text/plain": [
              "[]"
            ]
          },
          "metadata": {},
          "execution_count": 32
        }
      ]
    },
    {
      "cell_type": "code",
      "source": [
        "clo(1)"
      ],
      "metadata": {
        "colab": {
          "base_uri": "https://localhost:8080/"
        },
        "id": "TrnTqsg4_0RY",
        "outputId": "0348815c-c553-42dd-b2aa-b09e25f01b88"
      },
      "execution_count": null,
      "outputs": [
        {
          "output_type": "execute_result",
          "data": {
            "text/plain": [
              "[1]"
            ]
          },
          "metadata": {},
          "execution_count": 43
        }
      ]
    },
    {
      "cell_type": "code",
      "source": [
        "clo(2)"
      ],
      "metadata": {
        "colab": {
          "base_uri": "https://localhost:8080/"
        },
        "id": "lUV5jIDm_3ZQ",
        "outputId": "45c45bf3-fa54-4b5a-80fb-6bdf51cc6fca"
      },
      "execution_count": null,
      "outputs": [
        {
          "output_type": "execute_result",
          "data": {
            "text/plain": [
              "[1, 2]"
            ]
          },
          "metadata": {},
          "execution_count": 44
        }
      ]
    },
    {
      "cell_type": "code",
      "source": [
        "clo(3)"
      ],
      "metadata": {
        "colab": {
          "base_uri": "https://localhost:8080/"
        },
        "id": "xmEVO1Ww_9qY",
        "outputId": "f96d3c4d-3f56-46a2-b9aa-7a9baf2b0936"
      },
      "execution_count": null,
      "outputs": [
        {
          "output_type": "execute_result",
          "data": {
            "text/plain": [
              "[1, 2, 3]"
            ]
          },
          "metadata": {},
          "execution_count": 45
        }
      ]
    },
    {
      "cell_type": "code",
      "source": [
        "def closure(x) :\n",
        "  def inner (y) :\n",
        "    nonlocal x\n",
        "    x = x *y\n",
        "    return x\n",
        "  return inner"
      ],
      "metadata": {
        "id": "UB7McC0V__1o"
      },
      "execution_count": null,
      "outputs": []
    },
    {
      "cell_type": "code",
      "source": [
        "clo2 = closure(5)"
      ],
      "metadata": {
        "id": "Rr0wkq-MAR7_"
      },
      "execution_count": null,
      "outputs": []
    },
    {
      "cell_type": "code",
      "source": [
        "clo2"
      ],
      "metadata": {
        "colab": {
          "base_uri": "https://localhost:8080/"
        },
        "id": "BWAyI9fmAViQ",
        "outputId": "b7ac4ecf-d4c0-4989-dc91-ec9fb09670c4"
      },
      "execution_count": null,
      "outputs": [
        {
          "output_type": "execute_result",
          "data": {
            "text/plain": [
              "<function __main__.closure.<locals>.inner>"
            ]
          },
          "metadata": {},
          "execution_count": 29
        }
      ]
    },
    {
      "cell_type": "code",
      "source": [
        "def alert_start(func):\n",
        "  print(\"+alert_start\")\n",
        "  print(\"alert_start의 func=\", func)  \n",
        "  def new_func(*args, **kwargs):\n",
        "    print(\"alert_start:new_func:함수가 시작됩니다.\")\n",
        "    #func함수는 우리가 정의한 sum_all함수!!!\n",
        "    return func(*args, **kwargs)  # func is sum_all \n",
        "\n",
        "\n",
        "  print(\"-alert_start\")\n",
        "  return new_func"
      ],
      "metadata": {
        "id": "9OBwxUfgAWs_"
      },
      "execution_count": 5,
      "outputs": []
    },
    {
      "cell_type": "code",
      "source": [
        "def alert_end(func):  \n",
        "  print(\"+alert_end\")\n",
        "  print(\"alert_end의 func=\", func)  # alert_start.new_func\n",
        "  def new_func(*args, **kwargs):\n",
        "    print(\"+alert_end:new_func\")\n",
        "    result=func(*args, **kwargs)  # alert_start.new_func\n",
        "    print(\"-alert_end:new_func:함수가 끝났습니다.\")\n",
        "    return result\n",
        "\n",
        "  print(\"-alert_end\")\n",
        "  return new_func"
      ],
      "metadata": {
        "id": "J-UnwM6Rtis3"
      },
      "execution_count": 6,
      "outputs": []
    },
    {
      "cell_type": "code",
      "source": [
        "def sum_all(*args):\n",
        "  return sum(args)\n",
        "\n",
        "print(\"before sum_all=\",sum_all)"
      ],
      "metadata": {
        "colab": {
          "base_uri": "https://localhost:8080/"
        },
        "id": "qHeySdr9QEZ0",
        "outputId": "af7b09ef-27b0-4482-cd96-437ff01d60d3"
      },
      "execution_count": 7,
      "outputs": [
        {
          "output_type": "stream",
          "name": "stdout",
          "text": [
            "before sum_all= <function sum_all at 0x7fb001714170>\n"
          ]
        }
      ]
    },
    {
      "cell_type": "code",
      "source": [
        "sum_all = alert_start(sum_all) # 변수 sum_all는 alert_start의 내부함수,new_func이다!!!\n",
        "                               # alert_start함수 파라미터의 argument인 sum_all은 우리가 정의한 함수!\n",
        "print(\"after sum_all=\",sum_all)"
      ],
      "metadata": {
        "colab": {
          "base_uri": "https://localhost:8080/"
        },
        "id": "wltCz2vXHB7n",
        "outputId": "f4923fa2-1243-4775-c8df-b2089230058b"
      },
      "execution_count": 8,
      "outputs": [
        {
          "output_type": "stream",
          "name": "stdout",
          "text": [
            "+alert_start\n",
            "alert_start의 func= <function sum_all at 0x7fb001714170>\n",
            "-alert_start\n",
            "after sum_all= <function alert_start.<locals>.new_func at 0x7fb0016ccb00>\n"
          ]
        }
      ]
    },
    {
      "cell_type": "code",
      "source": [
        "sum_all(1,2,3,4,5) #sum_all함수는 alert_start의 내부함수, new_func이다\n",
        "#print(\"alert_start:new_func:함수가 시작됩니다.\")"
      ],
      "metadata": {
        "colab": {
          "base_uri": "https://localhost:8080/"
        },
        "id": "y_7xhiFzUE5s",
        "outputId": "46fb416a-5400-4c50-fdbb-a3d3d92cad4b"
      },
      "execution_count": 9,
      "outputs": [
        {
          "output_type": "stream",
          "name": "stdout",
          "text": [
            "alert_start:new_func:함수가 시작됩니다.\n"
          ]
        },
        {
          "output_type": "execute_result",
          "data": {
            "text/plain": [
              "15"
            ]
          },
          "metadata": {},
          "execution_count": 9
        }
      ]
    },
    {
      "cell_type": "code",
      "source": [
        "@alert_start       # 등가: sum_all = alert_start(sum_all)\n",
        "def sum_all(*args):\n",
        "  return sum(args)"
      ],
      "metadata": {
        "colab": {
          "base_uri": "https://localhost:8080/"
        },
        "id": "pymQ22HXTtLO",
        "outputId": "58e25a66-3e98-4cd6-ad7c-1545a5c0a93d"
      },
      "execution_count": null,
      "outputs": [
        {
          "output_type": "stream",
          "name": "stdout",
          "text": [
            "+alert_start\n",
            "<function sum_all at 0x7fab359855f0>\n",
            "-alert_start\n"
          ]
        }
      ]
    },
    {
      "cell_type": "code",
      "source": [
        "sum_all(1,2,3,4,5)"
      ],
      "metadata": {
        "colab": {
          "base_uri": "https://localhost:8080/"
        },
        "id": "q_xwQorOUCq0",
        "outputId": "ac68d6df-16e9-44da-94e3-53f462bb4014"
      },
      "execution_count": null,
      "outputs": [
        {
          "output_type": "stream",
          "name": "stdout",
          "text": [
            "alert_start:new_func:함수가 시작됩니다.\n"
          ]
        },
        {
          "output_type": "execute_result",
          "data": {
            "text/plain": [
              "15"
            ]
          },
          "metadata": {},
          "execution_count": 43
        }
      ]
    },
    {
      "cell_type": "code",
      "source": [
        "@alert_end         # -> alert_end(alert_start.new_func)\n",
        "@alert_start       # -> alert_start() 함수가 호출됨!!!\n",
        "def sum_all(*args):\n",
        "  return sum(args)"
      ],
      "metadata": {
        "colab": {
          "base_uri": "https://localhost:8080/"
        },
        "id": "l-tsB_8Htll_",
        "outputId": "c5993ad1-e3f2-40a5-b8d1-e54b2f7b7e59"
      },
      "execution_count": null,
      "outputs": [
        {
          "output_type": "stream",
          "name": "stdout",
          "text": [
            "+alert_start\n",
            "alert_start의 func= <function sum_all at 0x7fab35980440>\n",
            "-alert_start\n",
            "+alert_end\n",
            "alert_end의 func= <function alert_start.<locals>.new_func at 0x7fab359804d0>\n",
            "-alert_end\n"
          ]
        }
      ]
    },
    {
      "cell_type": "code",
      "source": [
        "sum_all(1,2,3,4,5)"
      ],
      "metadata": {
        "colab": {
          "base_uri": "https://localhost:8080/"
        },
        "id": "CTq-UuBxv-5P",
        "outputId": "1d96b10f-ecf7-43f2-c964-ad11bba7f063"
      },
      "execution_count": null,
      "outputs": [
        {
          "output_type": "stream",
          "name": "stdout",
          "text": [
            "+alert_end:new_func\n",
            "alert_start:new_func:함수가 시작됩니다.\n",
            "-alert_end:new_func:함수가 끝났습니다.\n"
          ]
        },
        {
          "output_type": "execute_result",
          "data": {
            "text/plain": [
              "15"
            ]
          },
          "metadata": {},
          "execution_count": 48
        }
      ]
    },
    {
      "cell_type": "code",
      "source": [
        "alert_end(alert_start(sum_all))(1,2,3,4,5)"
      ],
      "metadata": {
        "colab": {
          "base_uri": "https://localhost:8080/"
        },
        "id": "vy_lC2oPwBbl",
        "outputId": "870307f7-d995-4766-b9a9-424063cc30d1"
      },
      "execution_count": null,
      "outputs": [
        {
          "output_type": "stream",
          "name": "stdout",
          "text": [
            "+alert_start\n",
            "alert_start의 func= <function alert_end.<locals>.new_func at 0x7fab359808c0>\n",
            "-alert_start\n",
            "+alert_end\n",
            "alert_end의 func= <function alert_start.<locals>.new_func at 0x7fab35985680>\n",
            "-alert_end\n",
            "+alert_end:new_func\n",
            "alert_start:new_func:함수가 시작됩니다.\n",
            "+alert_end:new_func\n",
            "alert_start:new_func:함수가 시작됩니다.\n",
            "-alert_end:new_func:함수가 끝났습니다.\n",
            "-alert_end:new_func:함수가 끝났습니다.\n"
          ]
        },
        {
          "output_type": "execute_result",
          "data": {
            "text/plain": [
              "15"
            ]
          },
          "metadata": {},
          "execution_count": 49
        }
      ]
    }
  ]
}