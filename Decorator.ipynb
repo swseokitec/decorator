{
  "nbformat": 4,
  "nbformat_minor": 0,
  "metadata": {
    "colab": {
      "name": "Decorator.ipynb",
      "provenance": [],
      "collapsed_sections": [],
      "include_colab_link": true
    },
    "kernelspec": {
      "name": "python3",
      "display_name": "Python 3"
    },
    "language_info": {
      "name": "python"
    }
  },
  "cells": [
    {
      "cell_type": "markdown",
      "metadata": {
        "id": "view-in-github",
        "colab_type": "text"
      },
      "source": [
        "<a href=\"https://colab.research.google.com/github/swseokitec/decorator/blob/main/Decorator.ipynb\" target=\"_parent\"><img src=\"https://colab.research.google.com/assets/colab-badge.svg\" alt=\"Open In Colab\"/></a>"
      ]
    },
    {
      "cell_type": "markdown",
      "source": [
        "# Function Decorator"
      ],
      "metadata": {
        "id": "6iVX63qSaB-H"
      }
    },
    {
      "cell_type": "code",
      "execution_count": null,
      "metadata": {
        "id": "9zPu_glgAupb",
        "colab": {
          "base_uri": "https://localhost:8080/"
        },
        "outputId": "764bcdfb-722b-4897-99dd-2a2773a2b995"
      },
      "outputs": [
        {
          "output_type": "stream",
          "name": "stdout",
          "text": [
            "1st = Hi\n",
            "2nd =  1\n",
            "Hi 1\n",
            "Bye 1\n"
          ]
        }
      ],
      "source": [
        "\n",
        "# 자유변수:\n",
        "# -msg:__closure__[0]\n",
        "# -x:__closure__[1]\n",
        "def outer_function(msg):\n",
        "  x = 1\n",
        "  def inner_function():\n",
        "    print(msg, x)\n",
        "\n",
        "  return inner_function\n",
        "\n",
        "hi_func = outer_function('Hi')\n",
        "bye_func = outer_function('Bye')\n",
        "\n",
        "print(\"1st =\", hi_func.__closure__[0].cell_contents)\n",
        "print(\"2nd = \", hi_func.__closure__[1].cell_contents)\n",
        "\n",
        "hi_func()\n",
        "bye_func()"
      ]
    },
    {
      "cell_type": "code",
      "source": [
        "def decorator_function(original_function):  # 1\n",
        "    def wrapper_function():  # 5\n",
        "        return original_function()  # 7\n",
        "\n",
        "    return wrapper_function  # 6\n",
        "\n",
        "\n",
        "def display():  # 2\n",
        "    print('display 함수가 실행됐습니다.')  # 8\n",
        "\n",
        "\n"
      ],
      "metadata": {
        "id": "voZVuS1DBFfW"
      },
      "execution_count": null,
      "outputs": []
    },
    {
      "cell_type": "code",
      "source": [
        "decorated_display = decorator_function(display)  # 3\n",
        "\n",
        "decorated_display()  # 4"
      ],
      "metadata": {
        "colab": {
          "base_uri": "https://localhost:8080/"
        },
        "id": "Fj5I9SfxAAeR",
        "outputId": "28c78604-a829-412d-e7ca-f3aefaf2e1bd"
      },
      "execution_count": null,
      "outputs": [
        {
          "output_type": "stream",
          "name": "stdout",
          "text": [
            "display 함수가 실행됐습니다.\n"
          ]
        }
      ]
    },
    {
      "cell_type": "markdown",
      "source": [
        "위의 코드는 다음과 같은 내용입니다.</br>  \n",
        "* 데코레이터 함수인 decorator_function과 일반 함수인 display를 #1과 #2에서 각각 정의를 하였습니다.</br> \n",
        "* 그 다음에 #3에서 decorated_display라는 변수에 display 함수를 인자로 갖은 decorator_function을 호출하여 얻은 리턴값을 할당하였습니다.</br> \n",
        "* 물론 이 리턴값은 wrapper_function이 되겠죠. 여기서 wrapper_function 함수는 아직 실행된게 아닙니다. decorated_display 변수 안에서 호출되기를 기다리는 겁니다. \n",
        "* 그리고 #4의 decorated_display()를 통해 wrapper_function을 호출하면 #5번에서 정의된  wrapper_function이 호출이 됩니다.</br> \n",
        "* 그러면 #7에서 `original_function`인 `display` 함수가 호출되어 #8의 print 함수가 호출되고 문자열이 출력되는 겁니다."
      ],
      "metadata": {
        "id": "Wrtxx1GJB8cX"
      }
    },
    {
      "cell_type": "code",
      "source": [
        "def decorator_function(original_function):\n",
        "    def wrapper_function():\n",
        "        print('{} 함수가 호출되기전 입니다.'.format(original_function.__name__))\n",
        "        return original_function()\n",
        "\n",
        "    return wrapper_function\n",
        "\n",
        "\n",
        "def display_1():\n",
        "    print('display_1 함수가 실행됐습니다.')\n",
        "\n",
        "\n",
        "def display_2():\n",
        "    print('display_2 함수가 실행됐습니다.')\n",
        "\n"
      ],
      "metadata": {
        "id": "wwuSlQI6B89V"
      },
      "execution_count": null,
      "outputs": []
    },
    {
      "cell_type": "code",
      "source": [
        "display1_name = decorator_function(display_1)  # 1\n",
        "display2_name = decorator_function(display_2)  # 2"
      ],
      "metadata": {
        "id": "Bhx22y9lAG5x"
      },
      "execution_count": null,
      "outputs": []
    },
    {
      "cell_type": "code",
      "source": [
        "display1_name()\n",
        "print(\"*\" * 50)\n",
        "display2_name()"
      ],
      "metadata": {
        "colab": {
          "base_uri": "https://localhost:8080/"
        },
        "id": "rIHTaJJJDyeG",
        "outputId": "04773fe4-ae3c-4816-a64a-f0da558d6880"
      },
      "execution_count": null,
      "outputs": [
        {
          "output_type": "stream",
          "name": "stdout",
          "text": [
            "display_1 함수가 호출되기전 입니다.\n",
            "display_1 함수가 실행됐습니다.\n",
            "**************************************************\n",
            "display_2 함수가 호출되기전 입니다.\n",
            "display_2 함수가 실행됐습니다.\n"
          ]
        }
      ]
    },
    {
      "cell_type": "code",
      "source": [
        "def decorator_function(original_function):\n",
        "    print(\"decorator_function func=\", original_function)\n",
        "    def wrapper_function(*args, **kwargs):\n",
        "        print('{} 함수가 호출되기전 입니다.'.format(original_function.__name__))\n",
        "        return original_function(*args, **kwargs)\n",
        "    return wrapper_function\n",
        "\n",
        "\n",
        "@decorator_function\n",
        "def display():\n",
        "    print('display 함수가 실행됐습니다.')\n",
        "\n",
        "\n",
        "@decorator_function\n",
        "def display_info(name, age):\n",
        "    print('display_info({}, {}) 함수가 실행됐습니다.'.format(name, age))"
      ],
      "metadata": {
        "id": "niBvz26ICgGF",
        "colab": {
          "base_uri": "https://localhost:8080/"
        },
        "outputId": "bf67f7d3-b337-489c-fc68-ec832cb35333"
      },
      "execution_count": null,
      "outputs": [
        {
          "output_type": "stream",
          "name": "stdout",
          "text": [
            "decorator_function func= <function display at 0x7f7b38481dd0>\n",
            "decorator_function func= <function display_info at 0x7f7b38481b90>\n"
          ]
        }
      ]
    },
    {
      "cell_type": "code",
      "source": [
        "# display1_name = decorator_function(display_1)  # 1\n",
        "# display2_name = decorator_function(display_2)  # 2"
      ],
      "metadata": {
        "id": "by26qv5_AQWa"
      },
      "execution_count": null,
      "outputs": []
    },
    {
      "cell_type": "code",
      "source": [
        "# display1_name()\n",
        "# print(\"*\" * 50)\n",
        "# display2_name()"
      ],
      "metadata": {
        "id": "2MK4_CfmA8PK"
      },
      "execution_count": null,
      "outputs": []
    },
    {
      "cell_type": "code",
      "source": [
        "print(display) # display is wrapper_function\n",
        "print(display_info) # display_info is wrapper_function\n",
        "\n",
        "display()\n",
        "print()\n",
        "display_info('John', 25)"
      ],
      "metadata": {
        "id": "lz4agaepEIQO"
      },
      "execution_count": null,
      "outputs": []
    },
    {
      "cell_type": "code",
      "source": [
        "! date"
      ],
      "metadata": {
        "colab": {
          "base_uri": "https://localhost:8080/"
        },
        "id": "t8uPXJbEJQVV",
        "outputId": "fcf03989-0588-4268-b32e-94cc5d250d3f"
      },
      "execution_count": 1,
      "outputs": [
        {
          "output_type": "stream",
          "name": "stdout",
          "text": [
            "Tue Jul 26 00:03:40 UTC 2022\n"
          ]
        }
      ]
    },
    {
      "cell_type": "code",
      "source": [
        "! date; time sleep 1; date"
      ],
      "metadata": {
        "id": "JIg8xnZ-KHET",
        "colab": {
          "base_uri": "https://localhost:8080/"
        },
        "outputId": "e7815b97-0ca4-44a6-d4c5-fc66f011ff9b"
      },
      "execution_count": 2,
      "outputs": [
        {
          "output_type": "stream",
          "name": "stdout",
          "text": [
            "Tue Jul 26 00:04:54 UTC 2022\n",
            "\n",
            "real\t0m1.006s\n",
            "user\t0m0.003s\n",
            "sys\t0m0.001s\n",
            "Tue Jul 26 00:04:55 UTC 2022\n"
          ]
        }
      ]
    },
    {
      "cell_type": "code",
      "source": [
        "import datetime\n",
        "import time\n",
        "import logging\n",
        "\n",
        "def my_logger(original_function):   \n",
        "  filename = '{}.log'.format(original_function.__name__)\n",
        "  print(\"my_logger:filename path=\", filename)\n",
        "  logging.basicConfig(handlers=[logging.FileHandler(filename, 'a', 'utf-8')],\n",
        "                      level=logging.INFO)\n",
        "  \n",
        "  print(\"+called my_logger\")\n",
        "  def wrapper(*args, **kwargs):\n",
        "    print(\"called wrapper\")\n",
        "    timestamp = datetime.datetime.now().strftime('%Y-%m-%d %H:%M') # 9:12\n",
        "    logging.info('[{}] 실행결과 args - {}, kwargs - {}'.format(timestamp, args, kwargs))\n",
        "    return original_function(*args, **kwargs)\n",
        "\n",
        "  print(\"-called my_logger\")\n",
        "  return wrapper\n",
        "\n",
        "\n",
        "@my_logger\n",
        "def display_info(name, age):\n",
        "  print(\"called display_info\")\n",
        "  time.sleep(1)\n",
        "  print('display_info({}, {}) 함수가 실행됐습니다.'.format(name, age))"
      ],
      "metadata": {
        "id": "muvqMfiUKU8j",
        "colab": {
          "base_uri": "https://localhost:8080/"
        },
        "outputId": "94b59bf0-abed-41d2-d84f-653f47adf6e4"
      },
      "execution_count": 9,
      "outputs": [
        {
          "output_type": "stream",
          "name": "stdout",
          "text": [
            "my_logger:filename path= display_info.log\n",
            "+called my_logger\n",
            "-called my_logger\n"
          ]
        }
      ]
    },
    {
      "cell_type": "code",
      "source": [
        "!pwd"
      ],
      "metadata": {
        "colab": {
          "base_uri": "https://localhost:8080/"
        },
        "id": "te97YihL4K6L",
        "outputId": "bc888668-9ee8-4560-8e5b-d48070c079fd"
      },
      "execution_count": 17,
      "outputs": [
        {
          "output_type": "stream",
          "name": "stdout",
          "text": [
            "/content\n"
          ]
        }
      ]
    },
    {
      "cell_type": "code",
      "source": [
        "!ls -al"
      ],
      "metadata": {
        "colab": {
          "base_uri": "https://localhost:8080/"
        },
        "id": "xvZmVNXH4NUz",
        "outputId": "781c5ba6-0386-4b0f-c304-6015f0a3779e"
      },
      "execution_count": 18,
      "outputs": [
        {
          "output_type": "stream",
          "name": "stdout",
          "text": [
            "total 20\n",
            "drwxr-xr-x 1 root root 4096 Jul 26 00:20 .\n",
            "drwxr-xr-x 1 root root 4096 Jul 26 00:00 ..\n",
            "drwxr-xr-x 4 root root 4096 Jul 13 13:42 .config\n",
            "-rw-r--r-- 1 root root    0 Jul 26 00:20 display_info.log\n",
            "drwxr-xr-x 2 root root 4096 Jul 26 00:20 .ipynb_checkpoints\n",
            "drwxr-xr-x 1 root root 4096 Jul 13 13:43 sample_data\n"
          ]
        }
      ]
    },
    {
      "cell_type": "code",
      "source": [
        "!cat display_info.log"
      ],
      "metadata": {
        "id": "ZVnwHszo4TWz"
      },
      "execution_count": 19,
      "outputs": []
    },
    {
      "cell_type": "code",
      "source": [
        "print(\"*\" * 60)\n",
        "#print(\"call display_info!!!\")\n",
        "display_info('John', 25)"
      ],
      "metadata": {
        "colab": {
          "base_uri": "https://localhost:8080/"
        },
        "id": "PTc1zLX02xLK",
        "outputId": "04e5818c-021d-4f5d-812f-df21d919231e"
      },
      "execution_count": 20,
      "outputs": [
        {
          "output_type": "stream",
          "name": "stdout",
          "text": [
            "************************************************************\n",
            "called wrapper\n",
            "called display_info\n",
            "display_info(John, 25) 함수가 실행됐습니다.\n"
          ]
        }
      ]
    },
    {
      "cell_type": "code",
      "source": [
        "!cat display_info.log"
      ],
      "metadata": {
        "id": "_lHU47b34oOj"
      },
      "execution_count": 21,
      "outputs": []
    },
    {
      "cell_type": "code",
      "source": [
        "! ls -al"
      ],
      "metadata": {
        "id": "dyIO0dOVNOn-",
        "colab": {
          "base_uri": "https://localhost:8080/"
        },
        "outputId": "8697df8a-89b5-4a01-c363-91c26a8949bd"
      },
      "execution_count": 22,
      "outputs": [
        {
          "output_type": "stream",
          "name": "stdout",
          "text": [
            "total 20\n",
            "drwxr-xr-x 1 root root 4096 Jul 26 00:20 .\n",
            "drwxr-xr-x 1 root root 4096 Jul 26 00:00 ..\n",
            "drwxr-xr-x 4 root root 4096 Jul 13 13:42 .config\n",
            "-rw-r--r-- 1 root root    0 Jul 26 00:20 display_info.log\n",
            "drwxr-xr-x 2 root root 4096 Jul 26 00:20 .ipynb_checkpoints\n",
            "drwxr-xr-x 1 root root 4096 Jul 13 13:43 sample_data\n"
          ]
        }
      ]
    },
    {
      "cell_type": "code",
      "source": [
        "! cat ./display_info.log"
      ],
      "metadata": {
        "id": "_CP7OYc5NQek"
      },
      "execution_count": 23,
      "outputs": []
    },
    {
      "cell_type": "code",
      "source": [
        "import datetime\n",
        "import time\n",
        "\n",
        "\n",
        "def my_logger(original_function):\n",
        "    import logging\n",
        "    print(\"+my_logger\")\n",
        "    filename = '{}.log'.format(original_function.__name__)\n",
        "    logging.basicConfig(handlers=[logging.FileHandler(filename, 'a', 'utf-8')],\n",
        "                        level=logging.INFO)\n",
        "\n",
        "    def wrapper(*args, **kwargs):\n",
        "        timestamp = datetime.datetime.now().strftime('%Y-%m-%d %H:%M')\n",
        "        logging.info(\n",
        "            '[{}] 실행결과 args - {}, kwargs - {}'.format(timestamp, args, kwargs))\n",
        "        return original_function(*args, **kwargs)\n",
        "\n",
        "    print(\"-my_logger\")\n",
        "    return wrapper\n",
        "\n",
        "\n",
        "def my_timer(original_function):  # 1\n",
        "    import time\n",
        "    print(\"+my_timer\")\n",
        "    def wrapper(*args, **kwargs):\n",
        "        t1 = time.time()\n",
        "        result = original_function(*args, **kwargs)\n",
        "        t2 = time.time() - t1\n",
        "        print('{} 함수가 실행된 총 시간: {} 초'.format(original_function.__name__, t2))\n",
        "        return result\n",
        "    print(\"-my_timer\")\n",
        "    return wrapper\n",
        "\n",
        "\n",
        "@my_timer  # 2\n",
        "def display_info(name, age):\n",
        "    time.sleep(1)\n",
        "    print('display_info({}, {}) 함수가 실행됐습니다.'.format(name, age))\n",
        "\n",
        "\n"
      ],
      "metadata": {
        "id": "PuCtajnjNUiD",
        "colab": {
          "base_uri": "https://localhost:8080/"
        },
        "outputId": "64e5f396-f76a-416e-e28e-1d1a60fad07a"
      },
      "execution_count": 24,
      "outputs": [
        {
          "output_type": "stream",
          "name": "stdout",
          "text": [
            "+my_timer\n",
            "-my_timer\n"
          ]
        }
      ]
    },
    {
      "cell_type": "code",
      "source": [
        "display_info('John', 25)"
      ],
      "metadata": {
        "id": "uFqgifm2NhMN",
        "colab": {
          "base_uri": "https://localhost:8080/"
        },
        "outputId": "707cc29e-ab9c-4a04-f77a-92d12ec6d162"
      },
      "execution_count": 25,
      "outputs": [
        {
          "output_type": "stream",
          "name": "stdout",
          "text": [
            "display_info(John, 25) 함수가 실행됐습니다.\n",
            "display_info 함수가 실행된 총 시간: 1.0012333393096924 초\n"
          ]
        }
      ]
    },
    {
      "cell_type": "code",
      "source": [
        "import datetime\n",
        "import time\n",
        "import logging\n",
        "\n",
        "def my_logger(original_function):\n",
        "    print(\"+my_logger\")\n",
        "    print(\"my_logger:original_function=\", original_function)\n",
        "    filename = '{}.log'.format(original_function.__name__)\n",
        "    logging.basicConfig(handlers=[logging.FileHandler(filename, 'a', 'utf-8')],\n",
        "                        level=logging.INFO)\n",
        "\n",
        "    def wrapper(*args, **kwargs):\n",
        "        print(\"+my_logger:wrapper\")\n",
        "        timestamp = datetime.datetime.now().strftime('%Y-%m-%d %H:%M')\n",
        "        logging.info(\n",
        "            '[{}] excution result args - {}, kwargs - {}'.format(timestamp, args, kwargs))\n",
        "        \n",
        "        result = original_function(*args, **kwargs)\n",
        "        print(\"-my_logger:wrapper\")\n",
        "        return result\n",
        "\n",
        "    print(\"-my_logger\")\n",
        "    return wrapper\n",
        "\n",
        "\n",
        "def my_timer(original_function):\n",
        "    import time\n",
        "    print(\"+my_timer\")\n",
        "    print(\"my_timer:original_function=\", original_function)\n",
        "    def wrapper(*args, **kwargs):\n",
        "        print(\"+my_timer:wrapper\")\n",
        "        t1 = time.time()\n",
        "        result = original_function(*args, **kwargs)\n",
        "        t2 = time.time() - t1\n",
        "        print('{} 함수가 실행된 총 시간: {} 초'.format(original_function.__name__, t2))\n",
        "        print(\"-my_timer:wrapper\")\n",
        "        return result\n",
        "    print(\"-my_timer\")\n",
        "    return wrapper\n",
        "\n",
        "\n",
        "@my_logger  # 1\n",
        "@my_timer   # 2\n",
        "def display_info(name, age):\n",
        "    time.sleep(1)\n",
        "    print('display_info({}, {}) 함수가 실행됐습니다.'.format(name, age))"
      ],
      "metadata": {
        "id": "Klxo2EMPNsmt",
        "colab": {
          "base_uri": "https://localhost:8080/"
        },
        "outputId": "96ba64fd-5f62-4048-c418-073839115d08"
      },
      "execution_count": 33,
      "outputs": [
        {
          "output_type": "stream",
          "name": "stdout",
          "text": [
            "+my_timer\n",
            "my_timer:original_function= <function display_info at 0x7f9dab6abef0>\n",
            "-my_timer\n",
            "+my_logger\n",
            "my_logger:original_function= <function my_timer.<locals>.wrapper at 0x7f9dab791f80>\n",
            "-my_logger\n"
          ]
        }
      ]
    },
    {
      "cell_type": "code",
      "source": [
        "display_info('John', 25)"
      ],
      "metadata": {
        "id": "Ey1T9B4pNxYU",
        "outputId": "c7967ead-eb46-4d3f-c15c-acb307779f02",
        "colab": {
          "base_uri": "https://localhost:8080/"
        }
      },
      "execution_count": 34,
      "outputs": [
        {
          "output_type": "stream",
          "name": "stdout",
          "text": [
            "+my_logger:wrapper\n",
            "+my_timer:wrapper\n",
            "display_info(John, 25) 함수가 실행됐습니다.\n",
            "display_info 함수가 실행된 총 시간: 1.0008087158203125 초\n",
            "-my_timer:wrapper\n",
            "-my_logger:wrapper\n"
          ]
        }
      ]
    },
    {
      "cell_type": "code",
      "source": [
        "! ls -al"
      ],
      "metadata": {
        "id": "b6yB-9WRNx-y",
        "colab": {
          "base_uri": "https://localhost:8080/"
        },
        "outputId": "704dfe0f-f302-4227-cbf1-9c2410c84eb0"
      },
      "execution_count": 29,
      "outputs": [
        {
          "output_type": "stream",
          "name": "stdout",
          "text": [
            "total 20\n",
            "drwxr-xr-x 1 root root 4096 Jul 26 00:34 .\n",
            "drwxr-xr-x 1 root root 4096 Jul 26 00:00 ..\n",
            "drwxr-xr-x 4 root root 4096 Jul 13 13:42 .config\n",
            "-rw-r--r-- 1 root root    0 Jul 26 00:20 display_info.log\n",
            "drwxr-xr-x 2 root root 4096 Jul 26 00:20 .ipynb_checkpoints\n",
            "drwxr-xr-x 1 root root 4096 Jul 13 13:43 sample_data\n",
            "-rw-r--r-- 1 root root    0 Jul 26 00:34 wrapper.log\n"
          ]
        }
      ]
    },
    {
      "cell_type": "markdown",
      "source": [
        "# Class Decorator"
      ],
      "metadata": {
        "id": "Yo9kriBQ0KoQ"
      }
    },
    {
      "cell_type": "code",
      "source": [
        "class DecoratorClass:  # 1\n",
        "    def __init__(self, original_function):\n",
        "        print('Init:{} 함수.'.format(original_function))\n",
        "        self.original_function = original_function\n",
        "\n",
        "    def __call__(self, *args, **kwargs):\n",
        "        print('{} 함수가 호출되기전 입니다.'.format(self.original_function.__name__))\n",
        "        return self.original_function(*args, **kwargs)\n",
        "\n",
        "\n",
        "@DecoratorClass  # 2\n",
        "def display():\n",
        "    print('display 함수가 실행됐습니다.')\n",
        "\n",
        "\n",
        "@DecoratorClass  # 3\n",
        "def display_info(name, age):\n",
        "    print('display_info({}, {}) 함수가 실행됐습니다.'.format(name, age))"
      ],
      "metadata": {
        "id": "CnP5eJKnN4Sz"
      },
      "execution_count": null,
      "outputs": []
    },
    {
      "cell_type": "code",
      "source": [
        "print(display)\n",
        "print(display_info)\n",
        "\n",
        "display()   # diplay is DecoratorClass, 클래스 객체를 함수 호출방식[__call__를 정의했기 때문에]을 호출할 수 있다\n",
        "print()\n",
        "display_info('John', 25)"
      ],
      "metadata": {
        "id": "oKCZnijmG7hW"
      },
      "execution_count": null,
      "outputs": []
    },
    {
      "cell_type": "code",
      "source": [
        ""
      ],
      "metadata": {
        "id": "RQE6n0N9G8Dc"
      },
      "execution_count": null,
      "outputs": []
    }
  ]
}